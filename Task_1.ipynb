{
  "nbformat": 4,
  "nbformat_minor": 0,
  "metadata": {
    "colab": {
      "provenance": [],
      "authorship_tag": "ABX9TyOghVNbrnvxonVDtNLGwSum"
    },
    "kernelspec": {
      "name": "python3",
      "display_name": "Python 3"
    },
    "language_info": {
      "name": "python"
    }
  },
  "cells": [
    {
      "cell_type": "code",
      "execution_count": 3,
      "metadata": {
        "colab": {
          "base_uri": "https://localhost:8080/"
        },
        "id": "-s53EVrMHnJs",
        "outputId": "9193818b-ca57-4da6-ba7e-9a1ec9be9ca8"
      },
      "outputs": [
        {
          "output_type": "stream",
          "name": "stdout",
          "text": [
            "Average slippage per share for buying 200 shares: $0.0290\n"
          ]
        }
      ],
      "source": [
        "import numpy as np\n",
        "\n",
        "def piecewise_impact(x, order_book):\n",
        "    slippage = 0\n",
        "    remaining = x\n",
        "    # Access the price (first element) of the tuples\n",
        "    mid_price = (order_book['asks'][0][0] + order_book['bids'][0][0])/2\n",
        "\n",
        "    for price, quantity in order_book['asks']:\n",
        "        if remaining <= 0:\n",
        "            break\n",
        "        executed = min(remaining, quantity)\n",
        "        slippage += executed * (price - mid_price)\n",
        "        remaining -= executed\n",
        "\n",
        "    if x == 0:\n",
        "        return 0\n",
        "    return slippage / x\n",
        "\n",
        "order_book = {\n",
        "    'mid_price': 80.95,\n",
        "    'asks': [\n",
        "        (80.97, 110),\n",
        "        (80.99, 123),\n",
        "        (81.00, 140)\n",
        "    ],\n",
        "    'bids': [\n",
        "        (80.93, 112),\n",
        "        (80.92, 138),\n",
        "        (80.91, 200)\n",
        "    ]\n",
        "}\n",
        "\n",
        "S = 200\n",
        "impact = piecewise_impact(S, order_book)\n",
        "print(f\"Average slippage per share for buying {S} shares: ${impact:.4f}\")"
      ]
    }
  ]
}