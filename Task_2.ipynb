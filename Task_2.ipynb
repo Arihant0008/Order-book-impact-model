{
  "nbformat": 4,
  "nbformat_minor": 0,
  "metadata": {
    "colab": {
      "provenance": [],
      "authorship_tag": "ABX9TyMXHb2BgFnZ5EFU4XcpSS81"
    },
    "kernelspec": {
      "name": "python3",
      "display_name": "Python 3"
    },
    "language_info": {
      "name": "python"
    }
  },
  "cells": [
    {
      "cell_type": "code",
      "source": [
        "def simple_allocation(S, order_books):\n",
        "    x = []\n",
        "    remaining = S\n",
        "\n",
        "    costs = [] # Calculate cost per share in each period\n",
        "    for i, ob in enumerate(order_books):\n",
        "        cost = piecewise_impact(1, ob)\n",
        "        costs.append((cost, i))\n",
        "\n",
        "\n",
        "    costs.sort() # Sort by cost\n",
        "\n",
        "    for cost, i in costs:\n",
        "        if remaining <= 0:\n",
        "            break\n",
        "        max_available = sum(qty for price, qty in order_books[i]['asks'])\n",
        "        buy_qty = min(max_available, remaining)\n",
        "        x.append((i, buy_qty))\n",
        "        remaining -= buy_qty\n",
        "\n",
        "    return x\n"
      ],
      "metadata": {
        "id": "MBTA6IqSLXcf"
      },
      "execution_count": 12,
      "outputs": []
    },
    {
      "cell_type": "code",
      "source": [],
      "metadata": {
        "id": "htt8yqU4LYZ6"
      },
      "execution_count": 11,
      "outputs": []
    }
  ]
}